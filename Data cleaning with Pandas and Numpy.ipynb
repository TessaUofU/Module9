{
 "cells": [
  {
   "cell_type": "code",
   "execution_count": 1,
   "id": "97ec1cb4",
   "metadata": {},
   "outputs": [],
   "source": [
    "import pandas as pd\n",
    "import matplotlib.pyplot as plt\n",
    "import numpy as np\n",
    "\n",
    "flights_data = pd.read_csv('/Users/tessa/Downloads/flights.csv')\n",
    "#print(flights_data)\n",
    "\n",
    "weather_data_pd = pd.read_csv('/Users/tessa/Downloads/weather.csv')\n",
    "#print(weather_data_pd)\n",
    "\n",
    "weather_data_pd['month'] = weather_data_pd['month'].astype('float')\n",
    "#print(weather_data_pd)\n",
    "\n",
    "weather_data_np = weather_data_pd.to_numpy()\n",
    "#print(weather_data_np)"
   ]
  },
  {
   "cell_type": "code",
   "execution_count": 10,
   "id": "1b3389cd",
   "metadata": {},
   "outputs": [
    {
     "name": "stdout",
     "output_type": "stream",
     "text": [
      "Amount of flights from JFK to SLC: 2113\n"
     ]
    }
   ],
   "source": [
    "#Question 1 How many flights were there from JFK to SLC\n",
    "\n",
    "Q_one = flights_data.loc[(flights_data['origin']=='JFK') & (flights_data['dest']=='SLC')] #Filtering for flights originating in JFK destined for SLC.\n",
    "\n",
    "Q_one_len = len(Q_one)# Finding amount of flights\n",
    "\n",
    "print(\"Amount of flights from JFK to SLC:\", Q_one_len)"
   ]
  },
  {
   "cell_type": "code",
   "execution_count": 11,
   "id": "7a62c0c9",
   "metadata": {},
   "outputs": [
    {
     "name": "stdout",
     "output_type": "stream",
     "text": [
      "Amount of flights flying to SLC: 2467\n"
     ]
    }
   ],
   "source": [
    "#Question 2 How many airlines fly to SLC?\n",
    "\n",
    "Q_two = flights_data.loc[flights_data['dest']=='SLC']  #Filtering flights for destination SLC\n",
    "\n",
    "Q_two_len = len(Q_two) #Finding count of how many\n",
    "\n",
    "print(\"Amount of flights flying to SLC:\",Q_two_len)"
   ]
  },
  {
   "cell_type": "code",
   "execution_count": 12,
   "id": "98dc6f37",
   "metadata": {},
   "outputs": [
    {
     "name": "stdout",
     "output_type": "stream",
     "text": [
      "Average arrival delay for flights to RDU: 10.052380952380952\n"
     ]
    }
   ],
   "source": [
    "#Question 3 What is the average arrival delay for flights to RDU?\n",
    "\n",
    "RDU_values = flights_data.loc[flights_data['dest']=='RDU']  #Filtering flights for destination RDU\n",
    "\n",
    "Q_three= RDU_values['arr_delay'].mean()  #Finding mean for arrival delay for flights to RDU\n",
    "\n",
    "print(\"Average arrival delay for flights to RDU:\", Q_three)"
   ]
  },
  {
   "cell_type": "code",
   "execution_count": 13,
   "id": "bce9e272",
   "metadata": {},
   "outputs": [
    {
     "name": "stdout",
     "output_type": "stream",
     "text": [
      "The amount of flights coming from two NYC airports to SEA: 2092\n"
     ]
    }
   ],
   "source": [
    "#Question 4 What proportion of flights to SEA come from the two NYC airports (LGA and JFK)?\n",
    "\n",
    "LGA_values = flights_data.loc[(flights_data['origin']=='LGA') & (flights_data['dest']=='SEA')] #Finding flights with origin in LGA and destination in SEA\n",
    "#print(LGA_values) = 0\n",
    "\n",
    "JFK_values = flights_data.loc[(flights_data['origin']=='JFK') & (flights_data['dest']=='SEA')] #Find flights with origin in JFK and destination in SEA\n",
    "#print(JFK_values) = 2092\n",
    "\n",
    "Q_four = len(LGA_values) + len(JFK_values) #Adding the amount together, although zero flights were from LGA\n",
    "\n",
    "print(\"The amount of flights coming from two NYC airports to SEA:\",Q_four)"
   ]
  },
  {
   "cell_type": "code",
   "execution_count": 14,
   "id": "7b9f0f9c",
   "metadata": {},
   "outputs": [
    {
     "name": "stdout",
     "output_type": "stream",
     "text": [
      "Day with largest average departure delay:\n",
      "            dep_delay\n",
      "Date                 \n",
      "2013/03/08  83.536921\n"
     ]
    }
   ],
   "source": [
    "#Question 5 Which date has the largest average departure delay? Make date a column YYYY/MM/DD, pd slice with date and float\n",
    "\n",
    "f_d = flights_data.copy()            #Making a copy of the dataframe\n",
    "\n",
    "f_d['Date'] = pd.to_datetime(f_d[['year','month','day']]) #Creating new column for full date\n",
    "\n",
    "f_d['Date'] = f_d['Date'].dt.strftime('%Y/%m/%d')         #Changing format of date\n",
    "\n",
    "flt_del = f_d.loc[:,['dep_delay','Date']]                 #Slicing dataframe \n",
    "del_mean = flt_del.groupby('Date').mean()                 #Finding the average delay of each day\n",
    "Q_five = del_mean.loc[del_mean.idxmax()]                  #Locating the day with the largest average delay\n",
    "\n",
    "print(\"Day with largest average departure delay:\")\n",
    "print(Q_five)"
   ]
  },
  {
   "cell_type": "code",
   "execution_count": 15,
   "id": "9a7f3a89",
   "metadata": {},
   "outputs": [
    {
     "name": "stdout",
     "output_type": "stream",
     "text": [
      "Day with largest average arrival delay:\n",
      "            arr_delay\n",
      "Date                 \n",
      "2013/03/08  85.862155\n"
     ]
    }
   ],
   "source": [
    "#Question 6 Which date has the largest average arrival delay? Make date a column YYYY/MM/DD, pd slice with date and float\n",
    "\n",
    "f_d = flights_data.copy()                                 #Making a copy of the dataframe\n",
    "\n",
    "f_d['Date'] = pd.to_datetime(f_d[['year','month','day']]) #Creating new column for full date\n",
    "\n",
    "f_d['Date'] = f_d['Date'].dt.strftime('%Y/%m/%d')         #Changing format of date\n",
    "\n",
    "flt_arr = f_d.loc[:,['arr_delay','Date']]                 #Slicing dataframe \n",
    "arr_mean = flt_arr.groupby('Date').mean()                 #Finding the average delay of each day\n",
    "Q_six = arr_mean.loc[arr_mean.idxmax()]                   #Locating the day with the largest average delay\n",
    "\n",
    "print(\"Day with largest average arrival delay:\")\n",
    "print(Q_six)"
   ]
  },
  {
   "cell_type": "code",
   "execution_count": 16,
   "id": "4e4e76b1",
   "metadata": {},
   "outputs": [
    {
     "name": "stdout",
     "output_type": "stream",
     "text": [
      "Fastest flight in 2013 from either LGA or JFK:\n",
      "tailnum  origin\n",
      "N666DN   LGA       11.723077\n",
      "Name: speed, dtype: float64\n"
     ]
    }
   ],
   "source": [
    "#Question 7 Which flight departing LGA or JFK in 2013 flew the fastest? Tailnumber and speed (distance/airtime)\n",
    "\n",
    "flt_fast = flights_data.copy()\n",
    "flt_fast['speed'] = flt_fast['distance'].div(flt_fast['air_time'].values)     #Created copy and made a speed column\n",
    "\n",
    "LGA = flt_fast.loc[(flt_fast['origin']=='LGA')]                             #Filtered for LGA and JFK flights\n",
    "JFK = flt_fast.loc[(flt_fast['origin']=='JFK')]\n",
    "\n",
    "LGA_JFK = pd.concat([LGA,JFK],axis=0)                                      #Combined the filtered dataframes\n",
    "\n",
    "Q_seven = LGA_JFK.groupby(['tailnum','origin'])['speed'].max()             #Filtered for max speeds\n",
    "\n",
    "print(\"Fastest flight in 2013 from either LGA or JFK:\")\n",
    "print(Q_seven.nlargest(1))                                                 #Finding the fastest speed"
   ]
  },
  {
   "cell_type": "code",
   "execution_count": 17,
   "id": "5dbc4dd6",
   "metadata": {},
   "outputs": [
    {
     "name": "stdout",
     "output_type": "stream",
     "text": [
      "      Unnamed: 0 origin  year  month   day  hour   temp   dewp  humid  \\\n",
      "0              1    EWR  2013    1.0   1.0   0.0  37.04  21.92  53.97   \n",
      "1              2    EWR  2013    1.0   1.0   1.0  37.04  21.92  53.97   \n",
      "2              3    EWR  2013    1.0   1.0   2.0  37.94  21.92  52.09   \n",
      "3              4    EWR  2013    1.0   1.0   3.0  37.94  23.00  54.51   \n",
      "4              5    EWR  2013    1.0   1.0   4.0  37.94  24.08  57.04   \n",
      "...          ...    ...   ...    ...   ...   ...    ...    ...    ...   \n",
      "8714        8715    JFK  2013    9.0   2.0  20.0  75.20  73.40  94.14   \n",
      "8715        8716    JFK  2013   10.0  23.0  10.0  48.92  39.02  68.51   \n",
      "8716        8717    JFK  2013   10.0  23.0  11.0  48.92  39.02  68.51   \n",
      "8717        8718    JFK  2013   12.0  17.0   5.0  26.96  10.94  50.34   \n",
      "8718        8719    LGA  2013    8.0  22.0  22.0  75.92  66.92  73.68   \n",
      "\n",
      "      wind_dir  wind_speed  wind_gust  precip  pressure  visib  \n",
      "0        230.0    10.35702  11.918651     0.0    1013.9   10.0  \n",
      "1        230.0    13.80936  15.891535     0.0    1013.0   10.0  \n",
      "2        230.0    12.65858  14.567241     0.0    1012.6   10.0  \n",
      "3        230.0    13.80936  15.891535     0.0    1012.7   10.0  \n",
      "4        240.0    14.96014  17.215830     0.0    1012.8   10.0  \n",
      "...        ...         ...        ...     ...       ...    ...  \n",
      "8714     200.0     4.60312   5.297178     0.0       0.0    4.0  \n",
      "8715      60.0     4.60312   5.297178     0.0    1008.1   10.0  \n",
      "8716      40.0     4.60312   5.297178     0.0    1008.5   10.0  \n",
      "8717      40.0     4.60312   5.297178     0.0    1023.9   10.0  \n",
      "8718     210.0     8.05546   9.270062     0.0    1011.9   10.0  \n",
      "\n",
      "[8719 rows x 15 columns]\n"
     ]
    }
   ],
   "source": [
    "#Question 8 Replace all nans in the weather pd dataframe with 0s.\n",
    "\n",
    "weather_nonans_pd = weather_data_pd.fillna(0)  #Using function fillna to replace all nans with 0 in the weather pd dataframe\n",
    "\n",
    "print(weather_nonans_pd)  #printing weather dataframe to ensure nans have been replaced"
   ]
  },
  {
   "cell_type": "code",
   "execution_count": 18,
   "id": "27241a12",
   "metadata": {},
   "outputs": [
    {
     "name": "stdout",
     "output_type": "stream",
     "text": [
      "Amount of observations made in February: 671\n"
     ]
    }
   ],
   "source": [
    "#Question 9 How many observations were made in February?\n",
    "\n",
    "Q_nine = np.count_nonzero(weather_data_np[:,3]==2)  #Filtering for the month column then filtering for the month Febraury(2) and finding count. \n",
    "\n",
    "print(\"Amount of observations made in February:\",Q_nine)"
   ]
  },
  {
   "cell_type": "code",
   "execution_count": 19,
   "id": "dc912967",
   "metadata": {},
   "outputs": [
    {
     "name": "stdout",
     "output_type": "stream",
     "text": [
      "February's mean humidity: 62.918152011922515\n"
     ]
    }
   ],
   "source": [
    "#Question 10 What was the mean for humidity in February?\n",
    "\n",
    "\n",
    "month_humid_data = weather_data_np[:,[3,8]].copy()                     #Created sliced numpy copy of dataframe\n",
    "\n",
    "\n",
    "february_data = month_humid_data[(month_humid_data[:,0] == 2)]            #Filtering for February month\n",
    "february_mean = np.mean(february_data[:,1])                              #Calculating mean for humidity in filtered February data\n",
    "\n",
    "print(\"February's mean humidity:\" , february_mean)"
   ]
  },
  {
   "cell_type": "code",
   "execution_count": 20,
   "id": "5067c603",
   "metadata": {},
   "outputs": [
    {
     "name": "stdout",
     "output_type": "stream",
     "text": [
      "February's standard deviations for humidity: 20.33690087674334\n"
     ]
    }
   ],
   "source": [
    "#Question 11 What was the std for humidity in February?\n",
    "\n",
    "month_humid_data = weather_data_np[:,[3,8]].copy()                    #Created sliced numpy copy of dataframe\n",
    "\n",
    "\n",
    "february_data = month_humid_data[(month_humid_data[:,0] == 2)]        #Filtering for February month\n",
    "february_std = np.std(february_data[:,1])                             #Calculating standard deviation for humidity in filtered February data\n",
    " \n",
    "print(\"February's standard deviations for humidity:\" ,february_std)"
   ]
  },
  {
   "cell_type": "code",
   "execution_count": null,
   "id": "ead21bd7",
   "metadata": {},
   "outputs": [],
   "source": []
  }
 ],
 "metadata": {
  "kernelspec": {
   "display_name": "Python 3 (ipykernel)",
   "language": "python",
   "name": "python3"
  },
  "language_info": {
   "codemirror_mode": {
    "name": "ipython",
    "version": 3
   },
   "file_extension": ".py",
   "mimetype": "text/x-python",
   "name": "python",
   "nbconvert_exporter": "python",
   "pygments_lexer": "ipython3",
   "version": "3.9.12"
  }
 },
 "nbformat": 4,
 "nbformat_minor": 5
}
